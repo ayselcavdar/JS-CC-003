{
 "metadata": {
  "language_info": {
   "codemirror_mode": {
    "name": "ipython",
    "version": 3
   },
   "file_extension": ".py",
   "mimetype": "text/x-python",
   "name": "python",
   "nbconvert_exporter": "python",
   "pygments_lexer": "ipython3",
   "version": "3.7.6-final"
  },
  "orig_nbformat": 2,
  "kernelspec": {
   "name": "Python 3.7.6 64-bit ('base': conda)",
   "display_name": "Python 3.7.6 64-bit ('base': conda)",
   "metadata": {
    "interpreter": {
     "hash": "7969e2d402af0b7545bda0eb3df187ecc624bac72a8c45c1a25d9ecc321b2904"
    }
   }
  }
 },
 "nbformat": 4,
 "nbformat_minor": 2,
 "cells": [
  {
   "cell_type": "code",
   "execution_count": null,
   "metadata": {},
   "outputs": [],
   "source": [
    "# Algorithm for Reverse string\n",
    "# 1. Initialize the string.\n",
    "# 2. Split the string on space and store the resultant list in a variable called words.\n",
    "# 3. Reverse the list words using reversed function.\n",
    "# 4. Convert the result to list.\n",
    "# 5. Join the words using the join function and print it."
   ]
  },
  {
   "cell_type": "code",
   "execution_count": null,
   "metadata": {},
   "outputs": [],
   "source": [
    "# reversing words not every char in words\n",
    "string = input(\"Enter at least 2 words for reversing: \") # initializing the string\n",
    "words = string.split() # splitting the string on space\n",
    "reversed_words = list(reversed(words)) # reversing the words using reversed() function \n",
    "print(' '.join(reversed_words)) # joining the words and printing\n",
    "\n",
    "\n"
   ]
  },
  {
   "cell_type": "code",
   "execution_count": null,
   "metadata": {},
   "outputs": [],
   "source": [
    "# Reversing every char\n",
    "str = input(\"enter a word\")  # initial string\n",
    "str_len= len(str)  # calculate length of the list\n",
    "sliced_str = str[str_len::-1] # slicing \n",
    "\n",
    "print(sliced_str) # print the reversed string"
   ]
  },
  {
   "cell_type": "code",
   "execution_count": null,
   "metadata": {},
   "outputs": [],
   "source": [
    "# with Loop\n",
    "str = input(\"enter a word\") # initial string\n",
    "reversedString=[]\n",
    "index = len(str) # calculate length of string and save in index\n",
    "while index > 0: \n",
    "    reversedString += str[ index - 1 ] # save the value of str[index-1] in reverseString\n",
    "    index = index - 1 # decrement index\n",
    "print(\"\".join(reversedString)) # reversed string"
   ]
  },
  {
   "cell_type": "code",
   "execution_count": null,
   "metadata": {},
   "outputs": [],
   "source": [
    "str = input(\"enter a word\") # initial string\n",
    "reversed =''.join(reversed(str)) # .join() method merges all of the characters resulting from \n",
    "# the reversed iteration into a new string\n",
    "print(reversed) # print the reversed string"
   ]
  },
  {
   "cell_type": "code",
   "execution_count": null,
   "metadata": {},
   "outputs": [],
   "source": []
  }
 ]
}